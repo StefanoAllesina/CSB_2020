{
 "cells": [
  {
   "cell_type": "code",
   "execution_count": 1,
   "metadata": {},
   "outputs": [],
   "source": [
    "import numpy as np\n",
    "import pandas as pd\n",
    "import matplotlib.pyplot as plt\n",
    "%matplotlib notebook"
   ]
  },
  {
   "cell_type": "code",
   "execution_count": 2,
   "metadata": {},
   "outputs": [],
   "source": [
    "data = pd.read_csv('bioRXiv.csv')"
   ]
  },
  {
   "cell_type": "code",
   "execution_count": 31,
   "metadata": {},
   "outputs": [
    {
     "data": {
      "text/html": [
       "<div>\n",
       "<style scoped>\n",
       "    .dataframe tbody tr th:only-of-type {\n",
       "        vertical-align: middle;\n",
       "    }\n",
       "\n",
       "    .dataframe tbody tr th {\n",
       "        vertical-align: top;\n",
       "    }\n",
       "\n",
       "    .dataframe thead th {\n",
       "        text-align: right;\n",
       "    }\n",
       "</style>\n",
       "<table border=\"1\" class=\"dataframe\">\n",
       "  <thead>\n",
       "    <tr style=\"text-align: right;\">\n",
       "      <th></th>\n",
       "      <th>category</th>\n",
       "      <th>paperid</th>\n",
       "      <th>date</th>\n",
       "      <th>num_authors</th>\n",
       "      <th>title</th>\n",
       "    </tr>\n",
       "  </thead>\n",
       "  <tbody>\n",
       "    <tr>\n",
       "      <td>0</td>\n",
       "      <td>ecology</td>\n",
       "      <td>847186</td>\n",
       "      <td>2019-11-20</td>\n",
       "      <td>4</td>\n",
       "      <td>Co-designed land-use scenarios and their impli...</td>\n",
       "    </tr>\n",
       "    <tr>\n",
       "      <td>1</td>\n",
       "      <td>ecology</td>\n",
       "      <td>847442</td>\n",
       "      <td>2019-11-20</td>\n",
       "      <td>5</td>\n",
       "      <td>Testing Darwin’s naturalization conundrum base...</td>\n",
       "    </tr>\n",
       "    <tr>\n",
       "      <td>2</td>\n",
       "      <td>ecology</td>\n",
       "      <td>373332</td>\n",
       "      <td>2019-11-20</td>\n",
       "      <td>4</td>\n",
       "      <td>The taxonomic and functional biogeographies of...</td>\n",
       "    </tr>\n",
       "    <tr>\n",
       "      <td>3</td>\n",
       "      <td>ecology</td>\n",
       "      <td>718239</td>\n",
       "      <td>2019-11-20</td>\n",
       "      <td>113</td>\n",
       "      <td>Genetic tool development in marine protists: E...</td>\n",
       "    </tr>\n",
       "    <tr>\n",
       "      <td>4</td>\n",
       "      <td>ecology</td>\n",
       "      <td>848564</td>\n",
       "      <td>2019-11-19</td>\n",
       "      <td>3</td>\n",
       "      <td>Preference and switching in the Kill-the-Winne...</td>\n",
       "    </tr>\n",
       "    <tr>\n",
       "      <td>...</td>\n",
       "      <td>...</td>\n",
       "      <td>...</td>\n",
       "      <td>...</td>\n",
       "      <td>...</td>\n",
       "      <td>...</td>\n",
       "    </tr>\n",
       "    <tr>\n",
       "      <td>3049</td>\n",
       "      <td>ecology</td>\n",
       "      <td>281337</td>\n",
       "      <td>2018-03-13</td>\n",
       "      <td>1</td>\n",
       "      <td>Landscape-level DNA metabarcoding study in the...</td>\n",
       "    </tr>\n",
       "    <tr>\n",
       "      <td>3050</td>\n",
       "      <td>ecology</td>\n",
       "      <td>281584</td>\n",
       "      <td>2018-03-13</td>\n",
       "      <td>7</td>\n",
       "      <td>Accounting for location uncertainty in azimuth...</td>\n",
       "    </tr>\n",
       "    <tr>\n",
       "      <td>3051</td>\n",
       "      <td>ecology</td>\n",
       "      <td>281014</td>\n",
       "      <td>2018-03-12</td>\n",
       "      <td>3</td>\n",
       "      <td>Mitigation of coral bleaching by antioxidants</td>\n",
       "    </tr>\n",
       "    <tr>\n",
       "      <td>3052</td>\n",
       "      <td>ecology</td>\n",
       "      <td>279562</td>\n",
       "      <td>2018-03-12</td>\n",
       "      <td>7</td>\n",
       "      <td>A microcalorimetric approach for investigating...</td>\n",
       "    </tr>\n",
       "    <tr>\n",
       "      <td>3053</td>\n",
       "      <td>ecology</td>\n",
       "      <td>280107</td>\n",
       "      <td>2018-03-12</td>\n",
       "      <td>3</td>\n",
       "      <td>Broad-scale mercury bioaccumulation patterns i...</td>\n",
       "    </tr>\n",
       "  </tbody>\n",
       "</table>\n",
       "<p>3054 rows × 5 columns</p>\n",
       "</div>"
      ],
      "text/plain": [
       "     category  paperid       date  num_authors  \\\n",
       "0     ecology   847186 2019-11-20            4   \n",
       "1     ecology   847442 2019-11-20            5   \n",
       "2     ecology   373332 2019-11-20            4   \n",
       "3     ecology   718239 2019-11-20          113   \n",
       "4     ecology   848564 2019-11-19            3   \n",
       "...       ...      ...        ...          ...   \n",
       "3049  ecology   281337 2018-03-13            1   \n",
       "3050  ecology   281584 2018-03-13            7   \n",
       "3051  ecology   281014 2018-03-12            3   \n",
       "3052  ecology   279562 2018-03-12            7   \n",
       "3053  ecology   280107 2018-03-12            3   \n",
       "\n",
       "                                                  title  \n",
       "0     Co-designed land-use scenarios and their impli...  \n",
       "1     Testing Darwin’s naturalization conundrum base...  \n",
       "2     The taxonomic and functional biogeographies of...  \n",
       "3     Genetic tool development in marine protists: E...  \n",
       "4     Preference and switching in the Kill-the-Winne...  \n",
       "...                                                 ...  \n",
       "3049  Landscape-level DNA metabarcoding study in the...  \n",
       "3050  Accounting for location uncertainty in azimuth...  \n",
       "3051      Mitigation of coral bleaching by antioxidants  \n",
       "3052  A microcalorimetric approach for investigating...  \n",
       "3053  Broad-scale mercury bioaccumulation patterns i...  \n",
       "\n",
       "[3054 rows x 5 columns]"
      ]
     },
     "execution_count": 31,
     "metadata": {},
     "output_type": "execute_result"
    }
   ],
   "source": [
    "data"
   ]
  },
  {
   "cell_type": "markdown",
   "metadata": {},
   "source": [
    "1. Document the change in number of submissions: plot the number of submission per week for each year, and check whether it's growing."
   ]
  },
  {
   "cell_type": "code",
   "execution_count": 38,
   "metadata": {},
   "outputs": [],
   "source": [
    "# transform to datetime\n",
    "data.date = pd.to_datetime(data.date)\n",
    "# extract year\n",
    "data['year'] = pd.DatetimeIndex(data['date']).year\n",
    "# extract month\n",
    "data['month'] = pd.DatetimeIndex(data['date']).month\n",
    "# extract day of the week\n",
    "data['weekday'] = pd.DatetimeIndex(data['date']).dayofweek"
   ]
  },
  {
   "cell_type": "code",
   "execution_count": 39,
   "metadata": {},
   "outputs": [
    {
     "data": {
      "text/html": [
       "<div>\n",
       "<style scoped>\n",
       "    .dataframe tbody tr th:only-of-type {\n",
       "        vertical-align: middle;\n",
       "    }\n",
       "\n",
       "    .dataframe tbody tr th {\n",
       "        vertical-align: top;\n",
       "    }\n",
       "\n",
       "    .dataframe thead th {\n",
       "        text-align: right;\n",
       "    }\n",
       "</style>\n",
       "<table border=\"1\" class=\"dataframe\">\n",
       "  <thead>\n",
       "    <tr style=\"text-align: right;\">\n",
       "      <th></th>\n",
       "      <th>category</th>\n",
       "      <th>paperid</th>\n",
       "      <th>date</th>\n",
       "      <th>num_authors</th>\n",
       "      <th>title</th>\n",
       "      <th>year</th>\n",
       "      <th>month</th>\n",
       "      <th>weekday</th>\n",
       "    </tr>\n",
       "  </thead>\n",
       "  <tbody>\n",
       "    <tr>\n",
       "      <td>0</td>\n",
       "      <td>ecology</td>\n",
       "      <td>847186</td>\n",
       "      <td>2019-11-20</td>\n",
       "      <td>4</td>\n",
       "      <td>Co-designed land-use scenarios and their impli...</td>\n",
       "      <td>2019</td>\n",
       "      <td>11</td>\n",
       "      <td>2</td>\n",
       "    </tr>\n",
       "    <tr>\n",
       "      <td>1</td>\n",
       "      <td>ecology</td>\n",
       "      <td>847442</td>\n",
       "      <td>2019-11-20</td>\n",
       "      <td>5</td>\n",
       "      <td>Testing Darwin’s naturalization conundrum base...</td>\n",
       "      <td>2019</td>\n",
       "      <td>11</td>\n",
       "      <td>2</td>\n",
       "    </tr>\n",
       "    <tr>\n",
       "      <td>2</td>\n",
       "      <td>ecology</td>\n",
       "      <td>373332</td>\n",
       "      <td>2019-11-20</td>\n",
       "      <td>4</td>\n",
       "      <td>The taxonomic and functional biogeographies of...</td>\n",
       "      <td>2019</td>\n",
       "      <td>11</td>\n",
       "      <td>2</td>\n",
       "    </tr>\n",
       "    <tr>\n",
       "      <td>3</td>\n",
       "      <td>ecology</td>\n",
       "      <td>718239</td>\n",
       "      <td>2019-11-20</td>\n",
       "      <td>113</td>\n",
       "      <td>Genetic tool development in marine protists: E...</td>\n",
       "      <td>2019</td>\n",
       "      <td>11</td>\n",
       "      <td>2</td>\n",
       "    </tr>\n",
       "    <tr>\n",
       "      <td>4</td>\n",
       "      <td>ecology</td>\n",
       "      <td>848564</td>\n",
       "      <td>2019-11-19</td>\n",
       "      <td>3</td>\n",
       "      <td>Preference and switching in the Kill-the-Winne...</td>\n",
       "      <td>2019</td>\n",
       "      <td>11</td>\n",
       "      <td>1</td>\n",
       "    </tr>\n",
       "    <tr>\n",
       "      <td>...</td>\n",
       "      <td>...</td>\n",
       "      <td>...</td>\n",
       "      <td>...</td>\n",
       "      <td>...</td>\n",
       "      <td>...</td>\n",
       "      <td>...</td>\n",
       "      <td>...</td>\n",
       "      <td>...</td>\n",
       "    </tr>\n",
       "    <tr>\n",
       "      <td>3049</td>\n",
       "      <td>ecology</td>\n",
       "      <td>281337</td>\n",
       "      <td>2018-03-13</td>\n",
       "      <td>1</td>\n",
       "      <td>Landscape-level DNA metabarcoding study in the...</td>\n",
       "      <td>2018</td>\n",
       "      <td>3</td>\n",
       "      <td>1</td>\n",
       "    </tr>\n",
       "    <tr>\n",
       "      <td>3050</td>\n",
       "      <td>ecology</td>\n",
       "      <td>281584</td>\n",
       "      <td>2018-03-13</td>\n",
       "      <td>7</td>\n",
       "      <td>Accounting for location uncertainty in azimuth...</td>\n",
       "      <td>2018</td>\n",
       "      <td>3</td>\n",
       "      <td>1</td>\n",
       "    </tr>\n",
       "    <tr>\n",
       "      <td>3051</td>\n",
       "      <td>ecology</td>\n",
       "      <td>281014</td>\n",
       "      <td>2018-03-12</td>\n",
       "      <td>3</td>\n",
       "      <td>Mitigation of coral bleaching by antioxidants</td>\n",
       "      <td>2018</td>\n",
       "      <td>3</td>\n",
       "      <td>0</td>\n",
       "    </tr>\n",
       "    <tr>\n",
       "      <td>3052</td>\n",
       "      <td>ecology</td>\n",
       "      <td>279562</td>\n",
       "      <td>2018-03-12</td>\n",
       "      <td>7</td>\n",
       "      <td>A microcalorimetric approach for investigating...</td>\n",
       "      <td>2018</td>\n",
       "      <td>3</td>\n",
       "      <td>0</td>\n",
       "    </tr>\n",
       "    <tr>\n",
       "      <td>3053</td>\n",
       "      <td>ecology</td>\n",
       "      <td>280107</td>\n",
       "      <td>2018-03-12</td>\n",
       "      <td>3</td>\n",
       "      <td>Broad-scale mercury bioaccumulation patterns i...</td>\n",
       "      <td>2018</td>\n",
       "      <td>3</td>\n",
       "      <td>0</td>\n",
       "    </tr>\n",
       "  </tbody>\n",
       "</table>\n",
       "<p>3054 rows × 8 columns</p>\n",
       "</div>"
      ],
      "text/plain": [
       "     category  paperid       date  num_authors  \\\n",
       "0     ecology   847186 2019-11-20            4   \n",
       "1     ecology   847442 2019-11-20            5   \n",
       "2     ecology   373332 2019-11-20            4   \n",
       "3     ecology   718239 2019-11-20          113   \n",
       "4     ecology   848564 2019-11-19            3   \n",
       "...       ...      ...        ...          ...   \n",
       "3049  ecology   281337 2018-03-13            1   \n",
       "3050  ecology   281584 2018-03-13            7   \n",
       "3051  ecology   281014 2018-03-12            3   \n",
       "3052  ecology   279562 2018-03-12            7   \n",
       "3053  ecology   280107 2018-03-12            3   \n",
       "\n",
       "                                                  title  year  month  weekday  \n",
       "0     Co-designed land-use scenarios and their impli...  2019     11        2  \n",
       "1     Testing Darwin’s naturalization conundrum base...  2019     11        2  \n",
       "2     The taxonomic and functional biogeographies of...  2019     11        2  \n",
       "3     Genetic tool development in marine protists: E...  2019     11        2  \n",
       "4     Preference and switching in the Kill-the-Winne...  2019     11        1  \n",
       "...                                                 ...   ...    ...      ...  \n",
       "3049  Landscape-level DNA metabarcoding study in the...  2018      3        1  \n",
       "3050  Accounting for location uncertainty in azimuth...  2018      3        1  \n",
       "3051      Mitigation of coral bleaching by antioxidants  2018      3        0  \n",
       "3052  A microcalorimetric approach for investigating...  2018      3        0  \n",
       "3053  Broad-scale mercury bioaccumulation patterns i...  2018      3        0  \n",
       "\n",
       "[3054 rows x 8 columns]"
      ]
     },
     "execution_count": 39,
     "metadata": {},
     "output_type": "execute_result"
    }
   ],
   "source": [
    "data"
   ]
  },
  {
   "cell_type": "code",
   "execution_count": 42,
   "metadata": {},
   "outputs": [
    {
     "data": {
      "text/plain": [
       "<matplotlib.axes._subplots.AxesSubplot at 0x7f35d57b7110>"
      ]
     },
     "execution_count": 42,
     "metadata": {},
     "output_type": "execute_result"
    },
    {
     "data": {
      "image/png": "[encoded data removed]",
      "text/plain": [
       "<Figure size 432x288 with 1 Axes>"
      ]
     },
     "metadata": {
      "needs_background": "light"
     },
     "output_type": "display_data"
    }
   ],
   "source": [
    "# plot number of submissions per year\n",
    "plt.figure()\n",
    "# this creates a Series\n",
    "s_per_year = data.groupby('year').size()\n",
    "s_per_year.plot()"
   ]
  },
  {
   "cell_type": "code",
   "execution_count": 43,
   "metadata": {},
   "outputs": [
    {
     "data": {
      "text/plain": [
       "<matplotlib.axes._subplots.AxesSubplot at 0x7f35d5659290>"
      ]
     },
     "execution_count": 43,
     "metadata": {},
     "output_type": "execute_result"
    },
    {
     "data": {
      "image/png": "[encoded data removed]",
      "text/plain": [
       "<Figure size 432x288 with 1 Axes>"
      ]
     },
     "metadata": {
      "needs_background": "light"
     },
     "output_type": "display_data"
    }
   ],
   "source": [
    "# now by month and year\n",
    "plt.figure()\n",
    "# this creates a Series\n",
    "s_per_mo_year = data.groupby(['year', 'month']).size()\n",
    "s_per_mo_year.plot()"
   ]
  },
  {
   "cell_type": "code",
   "execution_count": 47,
   "metadata": {},
   "outputs": [
    {
     "data": {
      "text/plain": [
       "<matplotlib.axes._subplots.AxesSubplot at 0x7f35d4a74710>"
      ]
     },
     "execution_count": 47,
     "metadata": {},
     "output_type": "execute_result"
    },
    {
     "data": {
      "image/png": "[encoded data removed]",
      "text/plain": [
       "<Figure size 432x288 with 1 Axes>"
      ]
     },
     "metadata": {
      "needs_background": "light"
     },
     "output_type": "display_data"
    }
   ],
   "source": [
    "# if this was exponential growth, in log it should be a line\n",
    "s_per_year.plot(loglog = True)"
   ]
  },
  {
   "cell_type": "code",
   "execution_count": 51,
   "metadata": {},
   "outputs": [
    {
     "data": {
      "text/plain": [
       "<matplotlib.axes._subplots.AxesSubplot at 0x7f35ba083350>"
      ]
     },
     "execution_count": 51,
     "metadata": {},
     "output_type": "execute_result"
    },
    {
     "data": {
      "image/png": "[encoded data removed]",
      "text/plain": [
       "<Figure size 432x288 with 1 Axes>"
      ]
     },
     "metadata": {
      "needs_background": "light"
     },
     "output_type": "display_data"
    }
   ],
   "source": [
    "# which day is the one with most submissions?\n",
    "s_per_weekday = data.groupby('weekday').size()\n",
    "s_per_weekday.plot.bar()"
   ]
  },
  {
   "cell_type": "code",
   "execution_count": 52,
   "metadata": {},
   "outputs": [
    {
     "data": {
      "text/plain": [
       "<matplotlib.axes._subplots.AxesSubplot at 0x7f35ba9c5450>"
      ]
     },
     "execution_count": 52,
     "metadata": {},
     "output_type": "execute_result"
    },
    {
     "data": {
      "image/png": "[encoded data removed]",
      "text/plain": [
       "<Figure size 432x288 with 1 Axes>"
      ]
     },
     "metadata": {
      "needs_background": "light"
     },
     "output_type": "display_data"
    }
   ],
   "source": [
    "# which month is the one with most submissions?\n",
    "s_per_month = data.groupby('month').size()\n",
    "s_per_month.plot.bar()"
   ]
  },
  {
   "cell_type": "markdown",
   "metadata": {},
   "source": [
    "2. Draw the distribution of the number of authors in the *Subject Area*. If people choose different areas, we can see whether different disciplines have different cultures."
   ]
  },
  {
   "cell_type": "code",
   "execution_count": 53,
   "metadata": {},
   "outputs": [
    {
     "data": {
      "text/plain": [
       "<matplotlib.axes._subplots.AxesSubplot at 0x7f35ba083cd0>"
      ]
     },
     "execution_count": 53,
     "metadata": {},
     "output_type": "execute_result"
    },
    {
     "data": {
      "image/png": "[encoded data removed]",
      "text/plain": [
       "<Figure size 432x288 with 1 Axes>"
      ]
     },
     "metadata": {
      "needs_background": "light"
     },
     "output_type": "display_data"
    }
   ],
   "source": [
    "plt.figure()\n",
    "data['num_authors'].hist(bins = bins)"
   ]
  },
  {
   "cell_type": "code",
   "execution_count": 56,
   "metadata": {},
   "outputs": [
    {
     "data": {
      "text/plain": [
       "(array([2.876e+03, 1.450e+02, 1.600e+01, 1.000e+01, 3.000e+00, 2.000e+00,\n",
       "        0.000e+00, 0.000e+00, 1.000e+00, 1.000e+00]),\n",
       " array([  0. ,  11.3,  22.6,  33.9,  45.2,  56.5,  67.8,  79.1,  90.4,\n",
       "        101.7, 113. ]),\n",
       " <a list of 10 Patch objects>)"
      ]
     },
     "execution_count": 56,
     "metadata": {},
     "output_type": "execute_result"
    },
    {
     "data": {
      "image/png": "[encoded data removed]",
      "text/plain": [
       "<Figure size 432x288 with 1 Axes>"
      ]
     },
     "metadata": {
      "needs_background": "light"
     },
     "output_type": "display_data"
    }
   ],
   "source": [
    "# very skewed distribution; try to plot in log\n",
    "plt.hist(data['num_authors'], log = 'xy')"
   ]
  },
  {
   "cell_type": "code",
   "execution_count": 62,
   "metadata": {},
   "outputs": [],
   "source": [
    "# see whether mean and median have changed\n",
    "trend_num_auth = data.groupby('year')['num_authors'].agg(mean_na = 'mean',\n",
    "                                                         median_na= 'median',\n",
    "                                                         sd_na = 'std')"
   ]
  },
  {
   "cell_type": "code",
   "execution_count": 63,
   "metadata": {},
   "outputs": [
    {
     "data": {
      "text/html": [
       "<div>\n",
       "<style scoped>\n",
       "    .dataframe tbody tr th:only-of-type {\n",
       "        vertical-align: middle;\n",
       "    }\n",
       "\n",
       "    .dataframe tbody tr th {\n",
       "        vertical-align: top;\n",
       "    }\n",
       "\n",
       "    .dataframe thead th {\n",
       "        text-align: right;\n",
       "    }\n",
       "</style>\n",
       "<table border=\"1\" class=\"dataframe\">\n",
       "  <thead>\n",
       "    <tr style=\"text-align: right;\">\n",
       "      <th></th>\n",
       "      <th>mean_na</th>\n",
       "      <th>median_na</th>\n",
       "      <th>sd_na</th>\n",
       "    </tr>\n",
       "    <tr>\n",
       "      <th>year</th>\n",
       "      <th></th>\n",
       "      <th></th>\n",
       "      <th></th>\n",
       "    </tr>\n",
       "  </thead>\n",
       "  <tbody>\n",
       "    <tr>\n",
       "      <td>2013</td>\n",
       "      <td>3.857143</td>\n",
       "      <td>2</td>\n",
       "      <td>3.236694</td>\n",
       "    </tr>\n",
       "    <tr>\n",
       "      <td>2014</td>\n",
       "      <td>4.115385</td>\n",
       "      <td>3</td>\n",
       "      <td>2.941614</td>\n",
       "    </tr>\n",
       "    <tr>\n",
       "      <td>2015</td>\n",
       "      <td>4.295775</td>\n",
       "      <td>3</td>\n",
       "      <td>3.841110</td>\n",
       "    </tr>\n",
       "    <tr>\n",
       "      <td>2016</td>\n",
       "      <td>4.797030</td>\n",
       "      <td>4</td>\n",
       "      <td>4.381484</td>\n",
       "    </tr>\n",
       "    <tr>\n",
       "      <td>2017</td>\n",
       "      <td>5.331646</td>\n",
       "      <td>4</td>\n",
       "      <td>5.208241</td>\n",
       "    </tr>\n",
       "    <tr>\n",
       "      <td>2018</td>\n",
       "      <td>5.349869</td>\n",
       "      <td>4</td>\n",
       "      <td>4.723220</td>\n",
       "    </tr>\n",
       "    <tr>\n",
       "      <td>2019</td>\n",
       "      <td>5.603746</td>\n",
       "      <td>5</td>\n",
       "      <td>5.965417</td>\n",
       "    </tr>\n",
       "    <tr>\n",
       "      <td>2020</td>\n",
       "      <td>5.867052</td>\n",
       "      <td>5</td>\n",
       "      <td>3.859406</td>\n",
       "    </tr>\n",
       "  </tbody>\n",
       "</table>\n",
       "</div>"
      ],
      "text/plain": [
       "       mean_na  median_na     sd_na\n",
       "year                               \n",
       "2013  3.857143          2  3.236694\n",
       "2014  4.115385          3  2.941614\n",
       "2015  4.295775          3  3.841110\n",
       "2016  4.797030          4  4.381484\n",
       "2017  5.331646          4  5.208241\n",
       "2018  5.349869          4  4.723220\n",
       "2019  5.603746          5  5.965417\n",
       "2020  5.867052          5  3.859406"
      ]
     },
     "execution_count": 63,
     "metadata": {},
     "output_type": "execute_result"
    }
   ],
   "source": [
    "trend_num_auth"
   ]
  },
  {
   "cell_type": "code",
   "execution_count": 64,
   "metadata": {},
   "outputs": [
    {
     "data": {
      "text/plain": [
       "<matplotlib.axes._subplots.AxesSubplot at 0x7f35b9a7d790>"
      ]
     },
     "execution_count": 64,
     "metadata": {},
     "output_type": "execute_result"
    },
    {
     "data": {
      "image/png": "[encoded data removed]",
      "text/plain": [
       "<Figure size 432x288 with 1 Axes>"
      ]
     },
     "metadata": {
      "needs_background": "light"
     },
     "output_type": "display_data"
    }
   ],
   "source": [
    "trend_num_auth.plot()"
   ]
  },
  {
   "cell_type": "code",
   "execution_count": null,
   "metadata": {},
   "outputs": [],
   "source": []
  }
 ],
 "metadata": {
  "kernelspec": {
   "display_name": "Python 3",
   "language": "python",
   "name": "python3"
  },
  "language_info": {
   "codemirror_mode": {
    "name": "ipython",
    "version": 3
   },
   "file_extension": ".py",
   "mimetype": "text/x-python",
   "name": "python",
   "nbconvert_exporter": "python",
   "pygments_lexer": "ipython3",
   "version": "3.7.4"
  }
 },
 "nbformat": 4,
 "nbformat_minor": 2
}
