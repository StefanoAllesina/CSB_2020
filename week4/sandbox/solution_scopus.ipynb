{
 "cells": [
  {
   "cell_type": "code",
   "execution_count": 1,
   "metadata": {},
   "outputs": [],
   "source": [
    "import re # regular expressions\n",
    "# for plotting\n",
    "import matplotlib.pyplot as plt\n",
    "%matplotlib inline "
   ]
  },
  {
   "cell_type": "code",
   "execution_count": 2,
   "metadata": {},
   "outputs": [],
   "source": [
    "# for each author extract\n",
    "# name\n",
    "# number of documents\n",
    "# h-index"
   ]
  },
  {
   "cell_type": "code",
   "execution_count": 3,
   "metadata": {},
   "outputs": [],
   "source": [
    "# because working with the large file is difficult\n",
    "# create a small file that is easier to read\n",
    "# for example\n",
    "# grep -B4 -A4 Allesina scopus.html > small.html"
   ]
  },
  {
   "cell_type": "code",
   "execution_count": 4,
   "metadata": {},
   "outputs": [],
   "source": [
    "# Step 1: read the whole file\n",
    "with open('scopus.html', 'r') as content_file:\n",
    "    content = content_file.read()"
   ]
  },
  {
   "cell_type": "code",
   "execution_count": 5,
   "metadata": {},
   "outputs": [
    {
     "data": {
      "text/plain": [
       "'title=\"View this author&#39;s profile\"> Allesina, Stefano</a>'"
      ]
     },
     "execution_count": 5,
     "metadata": {},
     "output_type": "execute_result"
    }
   ],
   "source": [
    "# Step 2: Extracting names\n",
    "# Note that the names reported as:\n",
    "\"\"\"title=\"View this author&#39;s profile\"> Allesina, Stefano</a>\"\"\""
   ]
  },
  {
   "cell_type": "code",
   "execution_count": 6,
   "metadata": {},
   "outputs": [],
   "source": [
    "names = re.findall(r'title=\"View this author&#39;s profile\"> (.*)</a>', content)"
   ]
  },
  {
   "cell_type": "code",
   "execution_count": 7,
   "metadata": {},
   "outputs": [
    {
     "data": {
      "text/plain": [
       "['Nakamura, Yusuke',\n",
       " 'Müller, Dietrich R.',\n",
       " 'Weichselbaum, Ralph R.',\n",
       " 'Roizman, Bernard',\n",
       " 'Ratain, Mark J.',\n",
       " 'Larson, Richard A.',\n",
       " 'Bell, Graeme I.',\n",
       " 'Hubbell, Jeffrey A.',\n",
       " 'Doi, Kunio',\n",
       " 'Olopade, Olufunmilayo I.']"
      ]
     },
     "execution_count": 7,
     "metadata": {},
     "output_type": "execute_result"
    }
   ],
   "source": [
    "names[:10]"
   ]
  },
  {
   "cell_type": "code",
   "execution_count": 8,
   "metadata": {},
   "outputs": [
    {
     "data": {
      "text/plain": [
       "2000"
      ]
     },
     "execution_count": 8,
     "metadata": {},
     "output_type": "execute_result"
    }
   ],
   "source": [
    "# make sure we have 2000 names\n",
    "len(names)"
   ]
  },
  {
   "cell_type": "code",
   "execution_count": 9,
   "metadata": {},
   "outputs": [
    {
     "data": {
      "text/plain": [
       "'title=\"View documents for this author\">\\n88\\n</a>'"
      ]
     },
     "execution_count": 9,
     "metadata": {},
     "output_type": "execute_result"
    }
   ],
   "source": [
    "# Step 3: Extracting number of documents\n",
    "# Similarly, we have strings like\n",
    "\"\"\"title=\"View documents for this author\">\n",
    "88\n",
    "</a>\"\"\"\n",
    "# reporting the number of documents\n",
    "# we use the same strategy\n",
    "# note we need to add .*? in front of (\\d+) \n",
    "# as some numbers are misformatted"
   ]
  },
  {
   "cell_type": "code",
   "execution_count": 10,
   "metadata": {},
   "outputs": [],
   "source": [
    "documents = re.findall(r'title=\"View documents for this author\">\\n?.*?(\\d+)\\s?\\n?</a>', content)"
   ]
  },
  {
   "cell_type": "code",
   "execution_count": 11,
   "metadata": {},
   "outputs": [
    {
     "data": {
      "text/plain": [
       "['1422', '924', '759', '567', '529', '526', '525', '514', '486', '469']"
      ]
     },
     "execution_count": 11,
     "metadata": {},
     "output_type": "execute_result"
    }
   ],
   "source": [
    "documents[:10]"
   ]
  },
  {
   "cell_type": "code",
   "execution_count": 12,
   "metadata": {},
   "outputs": [
    {
     "data": {
      "text/plain": [
       "2000"
      ]
     },
     "execution_count": 12,
     "metadata": {},
     "output_type": "execute_result"
    }
   ],
   "source": [
    "# make sure there are 2000 values\n",
    "len(documents)"
   ]
  },
  {
   "cell_type": "code",
   "execution_count": 13,
   "metadata": {},
   "outputs": [
    {
     "data": {
      "text/plain": [
       "'\\n<td class=\"dataCol4 alignRight\">\\n33\\n'"
      ]
     },
     "execution_count": 13,
     "metadata": {},
     "output_type": "execute_result"
    }
   ],
   "source": [
    "# Step 4: extracting h-index\n",
    "# the pattern is \n",
    "\"\"\"\n",
    "<td class=\"dataCol4 alignRight\">\n",
    "33\n",
    "\"\"\""
   ]
  },
  {
   "cell_type": "code",
   "execution_count": 14,
   "metadata": {},
   "outputs": [],
   "source": [
    "hindex = re.findall(r'<td class=\"dataCol4 alignRight\">\\n(\\d+)\\n', content)"
   ]
  },
  {
   "cell_type": "code",
   "execution_count": 15,
   "metadata": {},
   "outputs": [
    {
     "data": {
      "text/plain": [
       "['148', '90', '104', '100', '77', '116', '120', '110', '73', '84']"
      ]
     },
     "execution_count": 15,
     "metadata": {},
     "output_type": "execute_result"
    }
   ],
   "source": [
    "hindex[:10]"
   ]
  },
  {
   "cell_type": "code",
   "execution_count": 16,
   "metadata": {},
   "outputs": [
    {
     "data": {
      "text/plain": [
       "2000"
      ]
     },
     "execution_count": 16,
     "metadata": {},
     "output_type": "execute_result"
    }
   ],
   "source": [
    "len(hindex)"
   ]
  },
  {
   "cell_type": "code",
   "execution_count": 17,
   "metadata": {},
   "outputs": [],
   "source": [
    "# now make documents and hindex integers for computing\n",
    "documents = [int(x) for x in documents] # list comprehension\n",
    "hindex = [int(x) for x in hindex] "
   ]
  },
  {
   "cell_type": "code",
   "execution_count": 18,
   "metadata": {},
   "outputs": [
    {
     "name": "stdout",
     "output_type": "stream",
     "text": [
      "documents: max 1422 min 20 mean 72.032\n"
     ]
    }
   ],
   "source": [
    "# some stats\n",
    "print(\"documents: max\", max(documents), \n",
    "      \"min\", min(documents), \n",
    "      \"mean\", sum(documents) / len(documents))"
   ]
  },
  {
   "cell_type": "code",
   "execution_count": 19,
   "metadata": {},
   "outputs": [
    {
     "name": "stdout",
     "output_type": "stream",
     "text": [
      "hindex: max 148 min 0 mean 22.499\n"
     ]
    }
   ],
   "source": [
    "print(\"hindex: max\", max(hindex), \n",
    "      \"min\", min(hindex), \n",
    "      \"mean\", sum(hindex) / len(hindex))"
   ]
  },
  {
   "cell_type": "code",
   "execution_count": 20,
   "metadata": {},
   "outputs": [],
   "source": [
    "def scatter_plot(x, y, label = 'my plot'):\n",
    "    plt.plot(x, y, 'o', c = 'g')\n",
    "    plt.title(label)\n",
    "    plt.show()"
   ]
  },
  {
   "cell_type": "code",
   "execution_count": 32,
   "metadata": {},
   "outputs": [
    {
     "data": {
      "image/png": "[encoded data removed]",
      "text/plain": [
       "<Figure size 432x288 with 1 Axes>"
      ]
     },
     "metadata": {},
     "output_type": "display_data"
    }
   ],
   "source": [
    "scatter_plot(documents, hindex, \"number of documents\")"
   ]
  },
  {
   "cell_type": "code",
   "execution_count": 33,
   "metadata": {},
   "outputs": [],
   "source": [
    "# try with logarithm\n",
    "import math\n",
    "logdoc = [math.log(x) for x in documents]"
   ]
  },
  {
   "cell_type": "code",
   "execution_count": 34,
   "metadata": {},
   "outputs": [
    {
     "data": {
      "image/png": "[encoded data removed]",
      "text/plain": [
       "<Figure size 432x288 with 1 Axes>"
      ]
     },
     "metadata": {},
     "output_type": "display_data"
    }
   ],
   "source": [
    "scatter_plot(logdoc, hindex, \"log number of documents\")"
   ]
  },
  {
   "cell_type": "code",
   "execution_count": 35,
   "metadata": {},
   "outputs": [],
   "source": [
    "# try with sqrt\n",
    "sqrtdoc = [math.sqrt(x) for x in documents]"
   ]
  },
  {
   "cell_type": "code",
   "execution_count": 36,
   "metadata": {},
   "outputs": [
    {
     "data": {
      "image/png": "[encoded data removed]",
      "text/plain": [
       "<Figure size 432x288 with 1 Axes>"
      ]
     },
     "metadata": {},
     "output_type": "display_data"
    }
   ],
   "source": [
    "scatter_plot(sqrtdoc, hindex, \"sqrt number of documents\")"
   ]
  },
  {
   "cell_type": "code",
   "execution_count": 37,
   "metadata": {},
   "outputs": [],
   "source": [
    "# compute correlation between\n",
    "# number of docs and h-index\n",
    "# log(number of docs) and h-index\n",
    "# sqrt(number of docs) and h-index"
   ]
  },
  {
   "cell_type": "code",
   "execution_count": 38,
   "metadata": {},
   "outputs": [],
   "source": [
    "def compute_pearson_correlation(x, y):\n",
    "    meanx = sum(x) / len(x)\n",
    "    sdx = math.sqrt(sum([(a - meanx) ** 2 for a in x]) / len(x))\n",
    "    meany = sum(y) / len(y)\n",
    "    sdy = math.sqrt(sum([(a - meany) ** 2 for a in y]) / len(y))\n",
    "    # now compute mean(x y)\n",
    "    xy = x\n",
    "    for i in range(len(x)):\n",
    "        xy[i] = xy[i] * y[i]\n",
    "    # correlation:\n",
    "    # (E[x y] - E[x] E[y]) / (sd[x] sd[y])\n",
    "    meanxy = sum(xy) / len(xy)\n",
    "    return (meanxy - meanx * meany)/ (sdx * sdy)"
   ]
  },
  {
   "cell_type": "code",
   "execution_count": 39,
   "metadata": {},
   "outputs": [
    {
     "data": {
      "text/plain": [
       "0.8637968816539302"
      ]
     },
     "execution_count": 39,
     "metadata": {},
     "output_type": "execute_result"
    }
   ],
   "source": [
    "compute_pearson_correlation(sqrtdoc, hindex)"
   ]
  },
  {
   "cell_type": "code",
   "execution_count": null,
   "metadata": {},
   "outputs": [],
   "source": []
  }
 ],
 "metadata": {
  "kernelspec": {
   "display_name": "Python 3",
   "language": "python",
   "name": "python3"
  },
  "language_info": {
   "codemirror_mode": {
    "name": "ipython",
    "version": 3
   },
   "file_extension": ".py",
   "mimetype": "text/x-python",
   "name": "python",
   "nbconvert_exporter": "python",
   "pygments_lexer": "ipython3",
   "version": "3.6.7"
  }
 },
 "nbformat": 4,
 "nbformat_minor": 2
}
